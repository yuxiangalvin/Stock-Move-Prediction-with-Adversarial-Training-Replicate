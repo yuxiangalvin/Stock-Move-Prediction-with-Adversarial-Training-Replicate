{
 "cells": [
  {
   "cell_type": "markdown",
   "metadata": {},
   "source": [
    "#### This Jupyter notebook file needs to be run in the environment with following dependencies:"
   ]
  },
  {
   "cell_type": "markdown",
   "metadata": {},
   "source": [
    "* python == 3.6\n",
    "* tensorflow == 1.8.0\n",
    "* numpy == 1.14.5"
   ]
  },
  {
   "cell_type": "code",
   "execution_count": 1,
   "metadata": {},
   "outputs": [],
   "source": [
    "import argparse\n",
    "import copy\n",
    "import numpy as np\n",
    "import os\n",
    "import random\n",
    "from sklearn.utils import shuffle\n",
    "import tensorflow as tf\n",
    "from time import time\n",
    "from tensorflow.python.ops.nn_ops import leaky_relu\n",
    "\n",
    "from load import load_cla_data\n",
    "from evaluator import evaluate\n",
    "\n",
    "from pred_lstm import AWLSTM"
   ]
  },
  {
   "cell_type": "code",
   "execution_count": 59,
   "metadata": {},
   "outputs": [],
   "source": [
    "T = '5'\n",
    "LSTM_U = '4'\n",
    "l2_alpha = '1'\n",
    "adv_a = '0.01'\n",
    "adv_e = '0.05'"
   ]
  },
  {
   "cell_type": "code",
   "execution_count": 71,
   "metadata": {},
   "outputs": [],
   "source": [
    "#grid search params\n",
    "T_list = [str(x) for x in [2, 3, 4, 5, 10, 15]]\n",
    "U_list = [str(x) for x in [4,8,16,32]]\n",
    "l2_alpha_list = [str(x) for x in [0.001,0.01, 0.1, 1]]"
   ]
  },
  {
   "cell_type": "code",
   "execution_count": 72,
   "metadata": {},
   "outputs": [],
   "source": [
    "result_dict = {}"
   ]
  },
  {
   "cell_type": "code",
   "execution_count": 73,
   "metadata": {},
   "outputs": [
    {
     "name": "stdout",
     "output_type": "stream",
     "text": [
      "1 / 96\n",
      "2 / 96\n",
      "3 / 96\n",
      "4 / 96\n",
      "5 / 96\n",
      "6 / 96\n",
      "7 / 96\n",
      "8 / 96\n",
      "9 / 96\n",
      "10 / 96\n",
      "11 / 96\n",
      "12 / 96\n",
      "13 / 96\n",
      "14 / 96\n",
      "15 / 96\n",
      "16 / 96\n",
      "17 / 96\n",
      "18 / 96\n",
      "19 / 96\n",
      "20 / 96\n",
      "21 / 96\n",
      "22 / 96\n",
      "23 / 96\n",
      "24 / 96\n",
      "25 / 96\n",
      "26 / 96\n",
      "27 / 96\n",
      "28 / 96\n",
      "29 / 96\n",
      "30 / 96\n",
      "31 / 96\n",
      "32 / 96\n",
      "33 / 96\n",
      "34 / 96\n",
      "35 / 96\n",
      "36 / 96\n",
      "37 / 96\n",
      "38 / 96\n",
      "39 / 96\n",
      "40 / 96\n",
      "41 / 96\n",
      "42 / 96\n",
      "43 / 96\n",
      "44 / 96\n",
      "45 / 96\n",
      "46 / 96\n",
      "47 / 96\n",
      "48 / 96\n",
      "49 / 96\n",
      "50 / 96\n",
      "51 / 96\n",
      "52 / 96\n",
      "53 / 96\n",
      "54 / 96\n",
      "55 / 96\n",
      "56 / 96\n",
      "57 / 96\n",
      "58 / 96\n",
      "59 / 96\n",
      "60 / 96\n",
      "61 / 96\n",
      "62 / 96\n",
      "63 / 96\n",
      "64 / 96\n",
      "65 / 96\n",
      "66 / 96\n",
      "67 / 96\n",
      "68 / 96\n",
      "69 / 96\n",
      "70 / 96\n",
      "71 / 96\n",
      "72 / 96\n",
      "73 / 96\n",
      "74 / 96\n",
      "75 / 96\n",
      "76 / 96\n",
      "77 / 96\n",
      "78 / 96\n",
      "79 / 96\n",
      "80 / 96\n",
      "81 / 96\n",
      "82 / 96\n",
      "83 / 96\n",
      "84 / 96\n",
      "85 / 96\n",
      "86 / 96\n",
      "87 / 96\n",
      "88 / 96\n",
      "89 / 96\n",
      "90 / 96\n",
      "91 / 96\n",
      "92 / 96\n",
      "93 / 96\n",
      "94 / 96\n",
      "95 / 96\n",
      "96 / 96\n"
     ]
    }
   ],
   "source": [
    "adv_a = '0.01'\n",
    "adv_e = '0.05'\n",
    "max_acc = 0\n",
    "max_mcc = -1\n",
    "max_acc_combo = ''\n",
    "max_mcc_combo = ''\n",
    "count = 0\n",
    "total = len(T_list) * len(U_list) * len(l2_alpha_list)\n",
    "for T in T_list:\n",
    "    for LSTM_U in U_list:\n",
    "        for l2_alpha in l2_alpha_list:\n",
    "            key = str(T) + ' ' + str(LSTM_U) + ' ' + str(l2_alpha)\n",
    "            if key not in result_dict.keys():\n",
    "                results = !python pred_lstm.py -l {T} -u {LSTM_U} -l2 {l2_alpha} -v 1 -la {adv_a} -le {adv_e}\n",
    "                acc = float(results[-2])\n",
    "                mcc = float(results[-1])\n",
    "                result_dict[key] = [acc, mcc]\n",
    "            else:\n",
    "                acc = result_dict[key][0]\n",
    "                mcc = result_dict[key][1]\n",
    "            if (acc > max_acc):\n",
    "                max_acc_combo = key\n",
    "                max_acc = acc\n",
    "            if (mcc > max_mcc):\n",
    "                max_mcc_combo = key\n",
    "                max_mcc = mcc\n",
    "            count += 1\n",
    "            print(count,'/',total)"
   ]
  },
  {
   "cell_type": "code",
   "execution_count": 74,
   "metadata": {},
   "outputs": [
    {
     "data": {
      "text/plain": [
       "0.5718199608610568"
      ]
     },
     "execution_count": 74,
     "metadata": {},
     "output_type": "execute_result"
    }
   ],
   "source": [
    "max_acc"
   ]
  },
  {
   "cell_type": "code",
   "execution_count": 75,
   "metadata": {},
   "outputs": [
    {
     "data": {
      "text/plain": [
       "0.12248641286657523"
      ]
     },
     "execution_count": 75,
     "metadata": {},
     "output_type": "execute_result"
    }
   ],
   "source": [
    "max_mcc"
   ]
  },
  {
   "cell_type": "code",
   "execution_count": 76,
   "metadata": {},
   "outputs": [
    {
     "data": {
      "text/plain": [
       "'15 4 0.1'"
      ]
     },
     "execution_count": 76,
     "metadata": {},
     "output_type": "execute_result"
    }
   ],
   "source": [
    "max_acc_combo"
   ]
  },
  {
   "cell_type": "code",
   "execution_count": 77,
   "metadata": {},
   "outputs": [
    {
     "data": {
      "text/plain": [
       "'10 8 1'"
      ]
     },
     "execution_count": 77,
     "metadata": {},
     "output_type": "execute_result"
    }
   ],
   "source": [
    "max_mcc_combo"
   ]
  },
  {
   "cell_type": "code",
   "execution_count": 79,
   "metadata": {},
   "outputs": [
    {
     "name": "stderr",
     "output_type": "stream",
     "text": [
      "2021-03-11 16:59:55.665071: I T:\\src\\github\\tensorflow\\tensorflow\\core\\platform\\cpu_feature_guard.cc:140] Your CPU supports instructions that this TensorFlow binary was not compiled to use: AVX2\n"
     ]
    },
    {
     "name": "stdout",
     "output_type": "stream",
     "text": [
      "Namespace(action='train', adv=1, alpha_l2=0.1, att=1, batch_size=1024, beta_adv=0.01, epoch=150, epsilon_adv=0.05, fix_init=0, gpu=0, hinge_lose=1, learning_rate=0.01, model='pure_lstm', model_path='./saved_model/acl18_alstm/exp', model_save_path='./tmp/model', path='./data/stocknet-dataset/price/ourpped', reload=0, seq=15, step=1, unit=4, week=0)\n",
      "87  tickers selected\n",
      "652 trading dates:\n",
      "148 546 588\n",
      "20303  training instances\n",
      "2555  validation instances\n",
      "3720  testing instances\n",
      "is pred_lstm\n",
      "device name: /cpu:0\n",
      "adversarial scope\n",
      "adversial part\n",
      "gradient noise\n",
      "adversial part\n",
      "0.5236790606653621\n",
      "0.07623109873363758\n"
     ]
    }
   ],
   "source": [
    "!python pred_lstm.py -l 15 -u 4 -l2 0.1 -v 1 -la {adv_a} -le {adv_e}"
   ]
  },
  {
   "cell_type": "code",
   "execution_count": 78,
   "metadata": {},
   "outputs": [
    {
     "data": {
      "text/plain": [
       "{'2 4 0.001': [0.5064579256360078, 0.057177200145471056],\n",
       " '2 4 0.01': [0.5060665362035225, 0.05381706654676534],\n",
       " '2 4 0.1': [0.5037181996086105, 0.060968113866049084],\n",
       " '2 4 1': [0.49510763209393344, 0.04610020737871681],\n",
       " '2 8 0.001': [0.5088062622309197, 0.061585651499796334],\n",
       " '2 8 0.01': [0.4943248532289628, 0.038213252032858185],\n",
       " '2 8 0.1': [0.5025440313111545, 0.06515712674391186],\n",
       " '2 8 1': [0.4892367906066536, 0.04666311538069722],\n",
       " '2 16 0.001': [0.501761252446184, 0.05790949298936548],\n",
       " '2 16 0.01': [0.5068493150684932, 0.05292604141134057],\n",
       " '2 16 0.1': [0.5158512720156556, 0.058610032579870616],\n",
       " '2 16 1': [0.500587084148728, 0.03896167798865088],\n",
       " '2 32 0.001': [0.5131115459882584, 0.045797952148964004],\n",
       " '2 32 0.01': [0.5033268101761252, 0.06490007070416975],\n",
       " '2 32 0.1': [0.510371819960861, 0.06384354298201861],\n",
       " '2 32 1': [0.5088062622309197, 0.058718296818564185],\n",
       " '3 4 0.001': [0.487279843444227, 0.018326214965422874],\n",
       " '3 4 0.01': [0.5052837573385519, 0.05787918900131453],\n",
       " '3 4 0.1': [0.513894324853229, 0.05213336981383289],\n",
       " '3 4 1': [0.4943248532289628, 0.03583197591715716],\n",
       " '3 8 0.001': [0.4888454011741683, 0.040511648659218184],\n",
       " '3 8 0.01': [0.49471624266144815, 0.050908902847053614],\n",
       " '3 8 0.1': [0.48649706457925634, 0.03991153558324581],\n",
       " '3 8 1': [0.48806262230919767, 0.03989261130280266],\n",
       " '3 16 0.001': [0.4888454011741683, 0.04351690516312406],\n",
       " '3 16 0.01': [0.4892367906066536, 0.04131182031229665],\n",
       " '3 16 0.1': [0.48649706457925634, 0.04573924644934376],\n",
       " '3 16 1': [0.4908023483365949, 0.021128066817600252],\n",
       " '3 32 0.001': [0.5048923679060665, 0.013649913742247378],\n",
       " '3 32 0.01': [0.4876712328767123, 0.044183752088737954],\n",
       " '3 32 0.1': [0.49158512720156555, 0.04838040536477657],\n",
       " '3 32 1': [0.5080234833659492, 0.06633153348557054],\n",
       " '4 4 0.001': [0.49354207436399217, 0.055293800051369836],\n",
       " '4 4 0.01': [0.49471624266144815, 0.05608163252824547],\n",
       " '4 4 0.1': [0.5185909980430529, 0.05051205241255921],\n",
       " '4 4 1': [0.5189823874755382, 0.08869809703807002],\n",
       " '4 8 0.001': [0.4892367906066536, 0.04962011731509093],\n",
       " '4 8 0.01': [0.4857142857142857, 0.00401006094683087],\n",
       " '4 8 0.1': [0.4857142857142857, 0.042708647358523595],\n",
       " '4 8 1': [0.5217221135029354, 0.08650127163631599],\n",
       " '4 16 0.001': [0.501761252446184, 0.028547518583520337],\n",
       " '4 16 0.01': [0.4904109589041096, 0.036336933721868525],\n",
       " '4 16 0.1': [0.49158512720156555, 0.048897149447123506],\n",
       " '4 16 1': [0.5060665362035225, 0.04019705772722084],\n",
       " '4 32 0.001': [0.5244618395303327, 0.06249685512202593],\n",
       " '4 32 0.01': [0.49354207436399217, 0.04731567699962411],\n",
       " '4 32 0.1': [0.4857142857142857, 0.01104779386116369],\n",
       " '4 32 1': [0.5185909980430529, 0.0696958894141907],\n",
       " '5 4 0.001': [0.4767123287671233, 0.03451488103925828],\n",
       " '5 4 0.01': [0.49706457925636005, 0.050906501222005615],\n",
       " '5 4 0.1': [0.5295499021526419, 0.09966767182919885],\n",
       " '5 4 1': [0.5275929549902153, 0.05317781985178281],\n",
       " '5 8 0.001': [0.487279843444227, 0.043100464008730695],\n",
       " '5 8 0.01': [0.5037181996086105, 0.03821166047856294],\n",
       " '5 8 0.1': [0.5001956947162427, 0.008828745765099686],\n",
       " '5 8 1': [0.5048923679060665, 0.03901103084938398],\n",
       " '5 16 0.001': [0.5080234833659492, 0.03752616010964228],\n",
       " '5 16 0.01': [0.4818003913894325, 0.02642570709875236],\n",
       " '5 16 0.1': [0.4794520547945205, 0.03368619786395068],\n",
       " '5 16 1': [0.5295499021526419, 0.09641777881968654],\n",
       " '5 32 0.001': [0.5033268101761252, 0.020733802661701342],\n",
       " '5 32 0.01': [0.49471624266144815, -0.001201504981563828],\n",
       " '5 32 0.1': [0.500587084148728, -0.006045710178614791],\n",
       " '5 32 1': [0.5432485322896282, 0.0855240078445773],\n",
       " '10 4 0.001': [0.4919765166340509, 0.009695841928584688],\n",
       " '10 4 0.01': [0.4962818003913894, -0.06694056787766275],\n",
       " '10 4 0.1': [0.5530332681017612, 0.08612407794212447],\n",
       " '10 4 1': [0.5538160469667319, 0.07501125589153118],\n",
       " '10 8 0.001': [0.4868884540117417, 0.041500277855144915],\n",
       " '10 8 0.01': [0.48336594911937375, -0.01748150848920368],\n",
       " '10 8 0.1': [0.5401174168297456, 0.1062108821801407],\n",
       " '10 8 1': [0.5545988258317025, 0.12248641286657523],\n",
       " '10 16 0.001': [0.5158512720156556, 0.0706826091575698],\n",
       " '10 16 0.01': [0.5162426614481409, 0.0516301405641739],\n",
       " '10 16 0.1': [0.5217221135029354, 0.04502833631533501],\n",
       " '10 16 1': [0.5409001956947163, 0.07828455367280719],\n",
       " '10 32 0.001': [0.5326810176125245, 0.0830357977350219],\n",
       " '10 32 0.01': [0.4943248532289628, 0.00901447198446693],\n",
       " '10 32 0.1': [0.5197651663405088, 0.034554645366426696],\n",
       " '10 32 1': [0.5334637964774951, 0.07695543721229749],\n",
       " '15 4 0.001': [0.5080234833659492, 0.05405224933717707],\n",
       " '15 4 0.01': [0.4923679060665362, 0.04920693610057458],\n",
       " '15 4 0.1': [0.5718199608610568, 0.11232254618654998],\n",
       " '15 4 1': [0.5162426614481409, -0.02565130544501329],\n",
       " '15 8 0.001': [0.5025440313111545, 0.04720549321964292],\n",
       " '15 8 0.01': [0.48336594911937375, 0.017132445522297923],\n",
       " '15 8 0.1': [0.49784735812133074, 0.009097815145054845],\n",
       " '15 8 1': [0.540508806262231, 0.056844303676744444],\n",
       " '15 16 0.001': [0.5107632093933464, 0.022978949747605115],\n",
       " '15 16 0.01': [0.49471624266144815, 0.00500078944312513],\n",
       " '15 16 0.1': [0.5315068493150685, -0.002018197359762808],\n",
       " '15 16 1': [0.5475538160469667, 0.05711338608755243],\n",
       " '15 32 0.001': [0.5060665362035225, 0.029959971163356795],\n",
       " '15 32 0.01': [0.48101761252446185, -0.04603133471112692],\n",
       " '15 32 0.1': [0.48962818003913894, -0.012749659106007817],\n",
       " '15 32 1': [0.5409001956947163, 0.08951512315379734]}"
      ]
     },
     "execution_count": 78,
     "metadata": {},
     "output_type": "execute_result"
    }
   ],
   "source": [
    "result_dict"
   ]
  },
  {
   "cell_type": "code",
   "execution_count": 86,
   "metadata": {},
   "outputs": [],
   "source": [
    "#grid search params for beta & epsilon\n",
    "T = '15'\n",
    "LSTM_U = '4'\n",
    "l2_alpha = '0.1'\n",
    "adv_a_list = [str(x) for x in [0.001, 0.005, 0.01, 0.05, 0.1, 0.5, 1]]\n",
    "adv_e_list = [str(x) for x in [0.001, 0.005, 0.01, 0.05, 0.1]]"
   ]
  },
  {
   "cell_type": "code",
   "execution_count": 87,
   "metadata": {},
   "outputs": [],
   "source": [
    "result_dict2 = {}\n",
    "result_dict_test = {}"
   ]
  },
  {
   "cell_type": "code",
   "execution_count": 88,
   "metadata": {},
   "outputs": [
    {
     "name": "stdout",
     "output_type": "stream",
     "text": [
      "1 / 35\n",
      "2 / 35\n",
      "3 / 35\n",
      "4 / 35\n",
      "5 / 35\n",
      "6 / 35\n",
      "7 / 35\n",
      "8 / 35\n",
      "9 / 35\n",
      "10 / 35\n",
      "11 / 35\n",
      "12 / 35\n",
      "13 / 35\n",
      "14 / 35\n",
      "15 / 35\n",
      "16 / 35\n",
      "17 / 35\n",
      "18 / 35\n",
      "19 / 35\n",
      "20 / 35\n",
      "21 / 35\n",
      "22 / 35\n",
      "23 / 35\n",
      "24 / 35\n",
      "25 / 35\n",
      "26 / 35\n",
      "27 / 35\n",
      "28 / 35\n",
      "29 / 35\n",
      "30 / 35\n",
      "31 / 35\n",
      "32 / 35\n",
      "33 / 35\n",
      "34 / 35\n",
      "35 / 35\n"
     ]
    }
   ],
   "source": [
    "max_acc2 = 0\n",
    "max_mcc2 = -1\n",
    "max_acc_combo2 = ''\n",
    "max_mcc_combo2 = ''\n",
    "count = 0\n",
    "total = len(adv_a_list) * len(adv_e_list)\n",
    "for adv_a in adv_a_list:\n",
    "    for adv_e in adv_e_list:\n",
    "        key = ' '.join([T, LSTM_U, l2_alpha, adv_a, adv_e])\n",
    "        if key not in result_dict2.keys():\n",
    "            results = !python pred_lstm.py -l {T} -u {LSTM_U} -l2 {l2_alpha} -v 1 -la {adv_a} -le {adv_e}\n",
    "            val_acc = float(results[-4])\n",
    "            val_mcc = float(results[-3])\n",
    "            test_acc = float(results[-2])\n",
    "            test_mcc = float(results[-1])\n",
    "            result_dict2[key] = [val_acc, val_mcc]\n",
    "            result_dict_test[key] = [test_acc, test_mcc]\n",
    "        else:\n",
    "            val_acc = result_dict2[key][0]\n",
    "            val_mcc = result_dict2[key][1]\n",
    "            test_acc = result_dict_test[key][0]\n",
    "            test_mcc = result_dict_test[key][1]\n",
    "        if (val_acc > max_acc2):\n",
    "            max_acc_combo2 = key\n",
    "            max_acc2 = val_acc\n",
    "        if (val_mcc > max_mcc2):\n",
    "            max_mcc_combo2 = key\n",
    "            max_mcc2 = val_mcc\n",
    "        count += 1\n",
    "        print(count,'/',total)"
   ]
  },
  {
   "cell_type": "code",
   "execution_count": 92,
   "metadata": {},
   "outputs": [
    {
     "data": {
      "text/plain": [
       "'15 4 0.1 0.05 0.05'"
      ]
     },
     "execution_count": 92,
     "metadata": {},
     "output_type": "execute_result"
    }
   ],
   "source": [
    "max_acc_combo2"
   ]
  },
  {
   "cell_type": "code",
   "execution_count": 90,
   "metadata": {},
   "outputs": [
    {
     "data": {
      "text/plain": [
       "0.5616438356164384"
      ]
     },
     "execution_count": 90,
     "metadata": {},
     "output_type": "execute_result"
    }
   ],
   "source": [
    "max_acc2"
   ]
  },
  {
   "cell_type": "code",
   "execution_count": 93,
   "metadata": {},
   "outputs": [
    {
     "data": {
      "text/plain": [
       "0.5718199608610568"
      ]
     },
     "execution_count": 93,
     "metadata": {},
     "output_type": "execute_result"
    }
   ],
   "source": [
    "max_acc"
   ]
  },
  {
   "cell_type": "code",
   "execution_count": 95,
   "metadata": {},
   "outputs": [
    {
     "data": {
      "text/plain": [
       "[0.5718199608610568, 0.11232254618654998]"
      ]
     },
     "execution_count": 95,
     "metadata": {},
     "output_type": "execute_result"
    }
   ],
   "source": [
    "result_dict[max_acc_combo]"
   ]
  },
  {
   "cell_type": "code",
   "execution_count": null,
   "metadata": {},
   "outputs": [],
   "source": []
  }
 ],
 "metadata": {
  "kernelspec": {
   "display_name": "Python 3",
   "language": "python",
   "name": "python3"
  },
  "language_info": {
   "codemirror_mode": {
    "name": "ipython",
    "version": 3
   },
   "file_extension": ".py",
   "mimetype": "text/x-python",
   "name": "python",
   "nbconvert_exporter": "python",
   "pygments_lexer": "ipython3",
   "version": "3.8.5"
  }
 },
 "nbformat": 4,
 "nbformat_minor": 4
}
